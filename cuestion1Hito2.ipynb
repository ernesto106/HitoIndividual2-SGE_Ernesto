{
 "cells": [
  {
   "cell_type": "markdown",
   "id": "d92d424a",
   "metadata": {},
   "source": [
    "# CUESTIÓN 1.\tMachine Learning con Python\n",
    "\n",
    "-En un DataLake (explica qué es) selecciona una fuente de datos. Dataset o similar, en csv, json…\n",
    "\n",
    "Un data lake es un entorno de datos compartidos en su formato original que comprende múltiples repositorios y aprovecha las tecnologías de big data.\n",
    "Un data lake es un repositorio de almacenamiento que contienen una gran cantidad de datos en bruto y que se mantienen allí hasta que sea necesario. El data lake todavía no tiene una finalidad definida. A diferencia de un data warehouse jerárquico que almacena datos en ficheros o carpetas, un data lake utiliza una arquitectura plana para almacenar los datos."
   ]
  },
  {
   "cell_type": "code",
   "execution_count": 1,
   "id": "b7479ec2",
   "metadata": {},
   "outputs": [
    {
     "data": {
      "text/html": [
       "<div>\n",
       "<style scoped>\n",
       "    .dataframe tbody tr th:only-of-type {\n",
       "        vertical-align: middle;\n",
       "    }\n",
       "\n",
       "    .dataframe tbody tr th {\n",
       "        vertical-align: top;\n",
       "    }\n",
       "\n",
       "    .dataframe thead th {\n",
       "        text-align: right;\n",
       "    }\n",
       "</style>\n",
       "<table border=\"1\" class=\"dataframe\">\n",
       "  <thead>\n",
       "    <tr style=\"text-align: right;\">\n",
       "      <th></th>\n",
       "      <th>Rank ;Platform ;Year ;Genre ;Publisher</th>\n",
       "    </tr>\n",
       "  </thead>\n",
       "  <tbody>\n",
       "    <tr>\n",
       "      <th>0</th>\n",
       "      <td>1;Wii ;2006;Sports ;Nintendo</td>\n",
       "    </tr>\n",
       "    <tr>\n",
       "      <th>1</th>\n",
       "      <td>2;NES ;1985;Platform ;Nintendo</td>\n",
       "    </tr>\n",
       "    <tr>\n",
       "      <th>2</th>\n",
       "      <td>3;Wii ;2008;Racing ;Nintendo</td>\n",
       "    </tr>\n",
       "    <tr>\n",
       "      <th>3</th>\n",
       "      <td>4;Wii ;2009;Sports ;Nintendo</td>\n",
       "    </tr>\n",
       "    <tr>\n",
       "      <th>4</th>\n",
       "      <td>5;GB ;1996;Role-Playing ;Nintendo</td>\n",
       "    </tr>\n",
       "    <tr>\n",
       "      <th>5</th>\n",
       "      <td>6;GB ;1989;Puzzle ;Nintendo</td>\n",
       "    </tr>\n",
       "    <tr>\n",
       "      <th>6</th>\n",
       "      <td>7;DS ;2006;Platform ;Nintendo</td>\n",
       "    </tr>\n",
       "    <tr>\n",
       "      <th>7</th>\n",
       "      <td>8;Wii ;2006;Misc ;Nintendo</td>\n",
       "    </tr>\n",
       "    <tr>\n",
       "      <th>8</th>\n",
       "      <td>9;Wii ;2009;Platform ;Nintendo</td>\n",
       "    </tr>\n",
       "    <tr>\n",
       "      <th>9</th>\n",
       "      <td>10;NES ;1984;Shooter ;Nintendo</td>\n",
       "    </tr>\n",
       "  </tbody>\n",
       "</table>\n",
       "</div>"
      ],
      "text/plain": [
       "  Rank ;Platform ;Year ;Genre ;Publisher\n",
       "0           1;Wii ;2006;Sports ;Nintendo\n",
       "1         2;NES ;1985;Platform ;Nintendo\n",
       "2           3;Wii ;2008;Racing ;Nintendo\n",
       "3           4;Wii ;2009;Sports ;Nintendo\n",
       "4      5;GB ;1996;Role-Playing ;Nintendo\n",
       "5            6;GB ;1989;Puzzle ;Nintendo\n",
       "6          7;DS ;2006;Platform ;Nintendo\n",
       "7             8;Wii ;2006;Misc ;Nintendo\n",
       "8         9;Wii ;2009;Platform ;Nintendo\n",
       "9         10;NES ;1984;Shooter ;Nintendo"
      ]
     },
     "execution_count": 1,
     "metadata": {},
     "output_type": "execute_result"
    }
   ],
   "source": [
    "import pandas as pd\n",
    "from seaborn import load_dataset\n",
    "\n",
    "\"\"\"\n",
    "\n",
    "Utilizando Jupyter crea un notebook que permita acceder a la fuente de datos anterior \n",
    "y comprueba que estás mostrando los 10 primeros registros.\n",
    "\n",
    "\"\"\"\n",
    "\n",
    "dataSet=pd.read_csv(\"https://raw.githubusercontent.com/ernesto106/HitoIndividual2-SGE_Ernesto/main/vgsales.csv\")\n",
    "df = pd.DataFrame(dataSet)\n",
    "\n",
    "df.head(10)\n"
   ]
  },
  {
   "cell_type": "code",
   "execution_count": 4,
   "id": "8047505a",
   "metadata": {},
   "outputs": [
    {
     "data": {
      "text/html": [
       "<div>\n",
       "<style scoped>\n",
       "    .dataframe tbody tr th:only-of-type {\n",
       "        vertical-align: middle;\n",
       "    }\n",
       "\n",
       "    .dataframe tbody tr th {\n",
       "        vertical-align: top;\n",
       "    }\n",
       "\n",
       "    .dataframe thead th {\n",
       "        text-align: right;\n",
       "    }\n",
       "</style>\n",
       "<table border=\"1\" class=\"dataframe\">\n",
       "  <thead>\n",
       "    <tr style=\"text-align: right;\">\n",
       "      <th></th>\n",
       "      <th>Rank ;Platform ;Year ;Genre ;Publisher</th>\n",
       "    </tr>\n",
       "  </thead>\n",
       "  <tbody>\n",
       "    <tr>\n",
       "      <th>count</th>\n",
       "      <td>16598</td>\n",
       "    </tr>\n",
       "    <tr>\n",
       "      <th>unique</th>\n",
       "      <td>16598</td>\n",
       "    </tr>\n",
       "    <tr>\n",
       "      <th>top</th>\n",
       "      <td>1;Wii ;2006;Sports ;Nintendo</td>\n",
       "    </tr>\n",
       "    <tr>\n",
       "      <th>freq</th>\n",
       "      <td>1</td>\n",
       "    </tr>\n",
       "  </tbody>\n",
       "</table>\n",
       "</div>"
      ],
      "text/plain": [
       "       Rank ;Platform ;Year ;Genre ;Publisher\n",
       "count                                   16598\n",
       "unique                                  16598\n",
       "top              1;Wii ;2006;Sports ;Nintendo\n",
       "freq                                        1"
      ]
     },
     "execution_count": 4,
     "metadata": {},
     "output_type": "execute_result"
    }
   ],
   "source": [
    "\"\"\"\n",
    "El método describe devuelve información estadística de los datos del dataframe o de la serie. \n",
    "Esta información incluye el número total de valores, el valor medio, la desviación estándar, el primer dato, cabecera, \n",
    "el valor mínimo, máximo, la mediana, los valores correspondientes a los percentiles 25% y 75%.\n",
    "\"\"\"\n",
    "df.describe()"
   ]
  },
  {
   "cell_type": "code",
   "execution_count": 5,
   "id": "884eeaa7",
   "metadata": {},
   "outputs": [
    {
     "data": {
      "text/plain": [
       "<bound method DataFrame.info of       Rank ;Platform ;Year ;Genre ;Publisher\n",
       "0               1;Wii ;2006;Sports ;Nintendo\n",
       "1             2;NES ;1985;Platform ;Nintendo\n",
       "2               3;Wii ;2008;Racing ;Nintendo\n",
       "3               4;Wii ;2009;Sports ;Nintendo\n",
       "4          5;GB ;1996;Role-Playing ;Nintendo\n",
       "...                                      ...\n",
       "16593        16596;GBA ;2002;Platform ;Kemco\n",
       "16594     16597;GC ;2003;Shooter ;Infogrames\n",
       "16595     16598;PS2 ;2008;Racing ;Activision\n",
       "16596        16599;DS ;2010;Puzzle ;7G//AMES\n",
       "16597      16600;GBA ;2003;Platform ;Wanadoo\n",
       "\n",
       "[16598 rows x 1 columns]>"
      ]
     },
     "execution_count": 5,
     "metadata": {},
     "output_type": "execute_result"
    }
   ],
   "source": [
    "\n",
    "\"\"\"\n",
    "Este método imprime un resumen conciso sobre un DataFrame, \n",
    "incluido el tipo de índice y los tipos de columna, los valores no nulos y el uso de memoria.\n",
    "\n",
    "\"\"\"\n",
    "\n",
    "df.info\n"
   ]
  },
  {
   "cell_type": "code",
   "execution_count": null,
   "id": "341370ca",
   "metadata": {},
   "outputs": [],
   "source": []
  }
 ],
 "metadata": {
  "kernelspec": {
   "display_name": "Python 3 (ipykernel)",
   "language": "python",
   "name": "python3"
  },
  "language_info": {
   "codemirror_mode": {
    "name": "ipython",
    "version": 3
   },
   "file_extension": ".py",
   "mimetype": "text/x-python",
   "name": "python",
   "nbconvert_exporter": "python",
   "pygments_lexer": "ipython3",
   "version": "3.9.7"
  }
 },
 "nbformat": 4,
 "nbformat_minor": 5
}
