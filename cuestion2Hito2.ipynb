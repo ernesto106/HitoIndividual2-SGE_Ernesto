{
 "cells": [
  {
   "cell_type": "markdown",
   "id": "c69a515d",
   "metadata": {},
   "source": [
    "# CUESTIÓN 2. WebScraping\n",
    "\n"
   ]
  },
  {
   "cell_type": "code",
   "execution_count": 1,
   "id": "d5f77b46",
   "metadata": {},
   "outputs": [
    {
     "name": "stdout",
     "output_type": "stream",
     "text": [
      "status_code: 200\n"
     ]
    }
   ],
   "source": [
    "import requests\n",
    "\n",
    "\n",
    "# URL de la web de Atlassian para el login\n",
    "url = \"https://bitbucket.org/dashboard/overview\"\n",
    "\n",
    "\n",
    "# Es una buena practica proveer las cabeceras de la web en cada peticion GET request.\n",
    "\n",
    "headers = {\n",
    "    \"content-Type\": \"application/javascript\",\n",
    "    \"DNT\": \"1\",\n",
    "    \"Origin\": \"https://id.atlassian.com/\",\n",
    "    \"Referer\": \"https://id.atlassian.com/\",\n",
    "    \"User-Agent\": \"User-Agent: Mozilla/5.0 (Windows NT 10.0; Win64; x64) AppleWebKit/537.36 (KHTML, like Gecko) Chrome/96.0.4664.45 Safari/537.36\"\n",
    "}\n",
    "\n",
    "\n",
    "# Enviamos la peticion request pasando como parametros la url y las cabeceras.\n",
    "response = requests.get(url = url, headers = headers)\n",
    "\n",
    "\"\"\"\n",
    "Aqui controlamos que si despues de realizar la peticion request, \n",
    "el codigo de estado es 200, entonces informame de ello por pantalla\n",
    "\n",
    "\"\"\"\n",
    "if response.status_code == 200:\n",
    "   \n",
    "    print(f'status_code: {response.status_code}')\n",
    "    \n",
    "    \n",
    "    "
   ]
  },
  {
   "cell_type": "markdown",
   "id": "91cf2654",
   "metadata": {},
   "source": [
    "El codigo de estado 200 nos indica que la peticion http ha tenido éxito. El cliente es el que realiza esta peticion, mientrar que si el servidor nos responde con el codigo 200, responde que ha respondido a la solicitud de manera correcta y nos devuelve la página solicitada en la web.\n",
    "\n",
    "El usuario estará viendo la página que pidió sin problemas y cara al SEO tendremos un comportamiento correcto entre el cliente y el servidor."
   ]
  },
  {
   "cell_type": "code",
   "execution_count": null,
   "id": "f334466c",
   "metadata": {},
   "outputs": [],
   "source": []
  }
 ],
 "metadata": {
  "kernelspec": {
   "display_name": "Python 3 (ipykernel)",
   "language": "python",
   "name": "python3"
  },
  "language_info": {
   "codemirror_mode": {
    "name": "ipython",
    "version": 3
   },
   "file_extension": ".py",
   "mimetype": "text/x-python",
   "name": "python",
   "nbconvert_exporter": "python",
   "pygments_lexer": "ipython3",
   "version": "3.9.7"
  }
 },
 "nbformat": 4,
 "nbformat_minor": 5
}
